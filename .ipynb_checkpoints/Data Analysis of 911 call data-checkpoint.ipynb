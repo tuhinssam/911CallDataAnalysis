{
 "cells": [
  {
   "cell_type": "code",
   "execution_count": 4,
   "metadata": {},
   "outputs": [],
   "source": [
    "import numpy as np\n",
    "import pandas as pd\n",
    "import matplotlib.pyplot as plt"
   ]
  },
  {
   "cell_type": "code",
   "execution_count": 5,
   "metadata": {},
   "outputs": [],
   "source": [
    "dfcalldata = pd.read_csv(\"911CallData.csv\")"
   ]
  },
  {
   "cell_type": "code",
   "execution_count": 6,
   "metadata": {},
   "outputs": [
    {
     "data": {
      "text/plain": [
       "(266543, 9)"
      ]
     },
     "execution_count": 6,
     "metadata": {},
     "output_type": "execute_result"
    }
   ],
   "source": [
    "dfcalldata.shape"
   ]
  },
  {
   "cell_type": "code",
   "execution_count": 7,
   "metadata": {},
   "outputs": [
    {
     "data": {
      "text/html": [
       "<div>\n",
       "<style scoped>\n",
       "    .dataframe tbody tr th:only-of-type {\n",
       "        vertical-align: middle;\n",
       "    }\n",
       "\n",
       "    .dataframe tbody tr th {\n",
       "        vertical-align: top;\n",
       "    }\n",
       "\n",
       "    .dataframe thead th {\n",
       "        text-align: right;\n",
       "    }\n",
       "</style>\n",
       "<table border=\"1\" class=\"dataframe\">\n",
       "  <thead>\n",
       "    <tr style=\"text-align: right;\">\n",
       "      <th></th>\n",
       "      <th>lat</th>\n",
       "      <th>lng</th>\n",
       "      <th>desc</th>\n",
       "      <th>zip</th>\n",
       "      <th>title</th>\n",
       "      <th>timeStamp</th>\n",
       "      <th>twp</th>\n",
       "      <th>addr</th>\n",
       "      <th>e</th>\n",
       "    </tr>\n",
       "  </thead>\n",
       "  <tbody>\n",
       "    <tr>\n",
       "      <th>4400</th>\n",
       "      <td>40.119577</td>\n",
       "      <td>-75.062236</td>\n",
       "      <td>PHILMONT AVE &amp; ANNE ST;  LOWER MORELAND; Stati...</td>\n",
       "      <td>19006.0</td>\n",
       "      <td>EMS: VEHICLE ACCIDENT</td>\n",
       "      <td>2015-12-22 14:38:53</td>\n",
       "      <td>LOWER MORELAND</td>\n",
       "      <td>PHILMONT AVE &amp; ANNE ST</td>\n",
       "      <td>1</td>\n",
       "    </tr>\n",
       "    <tr>\n",
       "      <th>151003</th>\n",
       "      <td>40.114957</td>\n",
       "      <td>-75.345633</td>\n",
       "      <td>MAIN ST &amp; CHERRY ST;  NORRISTOWN; Station 308A...</td>\n",
       "      <td>19401.0</td>\n",
       "      <td>EMS: VEHICLE ACCIDENT</td>\n",
       "      <td>2017-01-03 09:53:06</td>\n",
       "      <td>NORRISTOWN</td>\n",
       "      <td>MAIN ST &amp; CHERRY ST</td>\n",
       "      <td>1</td>\n",
       "    </tr>\n",
       "    <tr>\n",
       "      <th>123481</th>\n",
       "      <td>40.101777</td>\n",
       "      <td>-75.253780</td>\n",
       "      <td>FLOURTOWN RD; WHITEMARSH; 2016-10-26 @ 06:08:3...</td>\n",
       "      <td>NaN</td>\n",
       "      <td>Fire: FIRE POLICE NEEDED</td>\n",
       "      <td>2016-10-26 06:08:32</td>\n",
       "      <td>WHITEMARSH</td>\n",
       "      <td>FLOURTOWN RD</td>\n",
       "      <td>1</td>\n",
       "    </tr>\n",
       "    <tr>\n",
       "      <th>165496</th>\n",
       "      <td>40.132458</td>\n",
       "      <td>-75.120423</td>\n",
       "      <td>FRANKLIN AVE;  ABINGTON; Station 381; 2017-02-...</td>\n",
       "      <td>19090.0</td>\n",
       "      <td>EMS: BUILDING FIRE</td>\n",
       "      <td>2017-02-10 17:02:33</td>\n",
       "      <td>ABINGTON</td>\n",
       "      <td>FRANKLIN AVE</td>\n",
       "      <td>1</td>\n",
       "    </tr>\n",
       "    <tr>\n",
       "      <th>99428</th>\n",
       "      <td>40.161740</td>\n",
       "      <td>-75.123821</td>\n",
       "      <td>EASTON RD &amp; MARYLAND RD; UPPER MORELAND; 2016-...</td>\n",
       "      <td>19090.0</td>\n",
       "      <td>Traffic: VEHICLE ACCIDENT -</td>\n",
       "      <td>2016-08-25 15:11:44</td>\n",
       "      <td>UPPER MORELAND</td>\n",
       "      <td>EASTON RD &amp; MARYLAND RD</td>\n",
       "      <td>1</td>\n",
       "    </tr>\n",
       "    <tr>\n",
       "      <th>46468</th>\n",
       "      <td>40.015046</td>\n",
       "      <td>-75.299674</td>\n",
       "      <td>W MONTGOMERY AVE &amp; HAVERFORD STATION RD; LOWER...</td>\n",
       "      <td>19041.0</td>\n",
       "      <td>Traffic: VEHICLE ACCIDENT -</td>\n",
       "      <td>2016-04-08 08:15:18</td>\n",
       "      <td>LOWER MERION</td>\n",
       "      <td>W MONTGOMERY AVE &amp; HAVERFORD STATION RD</td>\n",
       "      <td>1</td>\n",
       "    </tr>\n",
       "    <tr>\n",
       "      <th>245002</th>\n",
       "      <td>40.244912</td>\n",
       "      <td>-75.644363</td>\n",
       "      <td>HIGH ST &amp; S FRANKLIN ST;  POTTSTOWN; Station 3...</td>\n",
       "      <td>19464.0</td>\n",
       "      <td>EMS: RESPIRATORY EMERGENCY</td>\n",
       "      <td>2017-09-07 15:50:25</td>\n",
       "      <td>POTTSTOWN</td>\n",
       "      <td>HIGH ST &amp; S FRANKLIN ST</td>\n",
       "      <td>1</td>\n",
       "    </tr>\n",
       "    <tr>\n",
       "      <th>32820</th>\n",
       "      <td>40.176758</td>\n",
       "      <td>-75.086363</td>\n",
       "      <td>ABBOTT RD &amp; HIGH AVE;  UPPER MORELAND; Station...</td>\n",
       "      <td>19040.0</td>\n",
       "      <td>EMS: FALL VICTIM</td>\n",
       "      <td>2016-03-02 01:04:17</td>\n",
       "      <td>UPPER MORELAND</td>\n",
       "      <td>ABBOTT RD &amp; HIGH AVE</td>\n",
       "      <td>1</td>\n",
       "    </tr>\n",
       "    <tr>\n",
       "      <th>228672</th>\n",
       "      <td>40.080913</td>\n",
       "      <td>-75.202665</td>\n",
       "      <td>EVERGREEN AVE &amp; STENTON AVE;  SPRINGFIELD; Sta...</td>\n",
       "      <td>19038.0</td>\n",
       "      <td>EMS: UNCONSCIOUS SUBJECT</td>\n",
       "      <td>2017-07-26 11:33:47</td>\n",
       "      <td>SPRINGFIELD</td>\n",
       "      <td>EVERGREEN AVE &amp; STENTON AVE</td>\n",
       "      <td>1</td>\n",
       "    </tr>\n",
       "    <tr>\n",
       "      <th>161922</th>\n",
       "      <td>40.124360</td>\n",
       "      <td>-75.381553</td>\n",
       "      <td>BRANDON RD &amp; S SCHUYLKILL AVE;  WEST NORRITON;...</td>\n",
       "      <td>19403.0</td>\n",
       "      <td>EMS: RESPIRATORY EMERGENCY</td>\n",
       "      <td>2017-02-01 06:08:26</td>\n",
       "      <td>WEST NORRITON</td>\n",
       "      <td>BRANDON RD &amp; S SCHUYLKILL AVE</td>\n",
       "      <td>1</td>\n",
       "    </tr>\n",
       "  </tbody>\n",
       "</table>\n",
       "</div>"
      ],
      "text/plain": [
       "              lat        lng  \\\n",
       "4400    40.119577 -75.062236   \n",
       "151003  40.114957 -75.345633   \n",
       "123481  40.101777 -75.253780   \n",
       "165496  40.132458 -75.120423   \n",
       "99428   40.161740 -75.123821   \n",
       "46468   40.015046 -75.299674   \n",
       "245002  40.244912 -75.644363   \n",
       "32820   40.176758 -75.086363   \n",
       "228672  40.080913 -75.202665   \n",
       "161922  40.124360 -75.381553   \n",
       "\n",
       "                                                     desc      zip  \\\n",
       "4400    PHILMONT AVE & ANNE ST;  LOWER MORELAND; Stati...  19006.0   \n",
       "151003  MAIN ST & CHERRY ST;  NORRISTOWN; Station 308A...  19401.0   \n",
       "123481  FLOURTOWN RD; WHITEMARSH; 2016-10-26 @ 06:08:3...      NaN   \n",
       "165496  FRANKLIN AVE;  ABINGTON; Station 381; 2017-02-...  19090.0   \n",
       "99428   EASTON RD & MARYLAND RD; UPPER MORELAND; 2016-...  19090.0   \n",
       "46468   W MONTGOMERY AVE & HAVERFORD STATION RD; LOWER...  19041.0   \n",
       "245002  HIGH ST & S FRANKLIN ST;  POTTSTOWN; Station 3...  19464.0   \n",
       "32820   ABBOTT RD & HIGH AVE;  UPPER MORELAND; Station...  19040.0   \n",
       "228672  EVERGREEN AVE & STENTON AVE;  SPRINGFIELD; Sta...  19038.0   \n",
       "161922  BRANDON RD & S SCHUYLKILL AVE;  WEST NORRITON;...  19403.0   \n",
       "\n",
       "                              title            timeStamp             twp  \\\n",
       "4400          EMS: VEHICLE ACCIDENT  2015-12-22 14:38:53  LOWER MORELAND   \n",
       "151003        EMS: VEHICLE ACCIDENT  2017-01-03 09:53:06      NORRISTOWN   \n",
       "123481     Fire: FIRE POLICE NEEDED  2016-10-26 06:08:32      WHITEMARSH   \n",
       "165496           EMS: BUILDING FIRE  2017-02-10 17:02:33        ABINGTON   \n",
       "99428   Traffic: VEHICLE ACCIDENT -  2016-08-25 15:11:44  UPPER MORELAND   \n",
       "46468   Traffic: VEHICLE ACCIDENT -  2016-04-08 08:15:18    LOWER MERION   \n",
       "245002   EMS: RESPIRATORY EMERGENCY  2017-09-07 15:50:25       POTTSTOWN   \n",
       "32820              EMS: FALL VICTIM  2016-03-02 01:04:17  UPPER MORELAND   \n",
       "228672     EMS: UNCONSCIOUS SUBJECT  2017-07-26 11:33:47     SPRINGFIELD   \n",
       "161922   EMS: RESPIRATORY EMERGENCY  2017-02-01 06:08:26   WEST NORRITON   \n",
       "\n",
       "                                           addr  e  \n",
       "4400                     PHILMONT AVE & ANNE ST  1  \n",
       "151003                      MAIN ST & CHERRY ST  1  \n",
       "123481                             FLOURTOWN RD  1  \n",
       "165496                             FRANKLIN AVE  1  \n",
       "99428                   EASTON RD & MARYLAND RD  1  \n",
       "46468   W MONTGOMERY AVE & HAVERFORD STATION RD  1  \n",
       "245002                  HIGH ST & S FRANKLIN ST  1  \n",
       "32820                      ABBOTT RD & HIGH AVE  1  \n",
       "228672              EVERGREEN AVE & STENTON AVE  1  \n",
       "161922            BRANDON RD & S SCHUYLKILL AVE  1  "
      ]
     },
     "execution_count": 7,
     "metadata": {},
     "output_type": "execute_result"
    }
   ],
   "source": [
    "dfcalldata.sample(10)"
   ]
  },
  {
   "cell_type": "code",
   "execution_count": 8,
   "metadata": {},
   "outputs": [
    {
     "data": {
      "text/html": [
       "<div>\n",
       "<style scoped>\n",
       "    .dataframe tbody tr th:only-of-type {\n",
       "        vertical-align: middle;\n",
       "    }\n",
       "\n",
       "    .dataframe tbody tr th {\n",
       "        vertical-align: top;\n",
       "    }\n",
       "\n",
       "    .dataframe thead th {\n",
       "        text-align: right;\n",
       "    }\n",
       "</style>\n",
       "<table border=\"1\" class=\"dataframe\">\n",
       "  <thead>\n",
       "    <tr style=\"text-align: right;\">\n",
       "      <th></th>\n",
       "      <th>lat</th>\n",
       "      <th>lng</th>\n",
       "      <th>zip</th>\n",
       "      <th>e</th>\n",
       "    </tr>\n",
       "  </thead>\n",
       "  <tbody>\n",
       "    <tr>\n",
       "      <th>count</th>\n",
       "      <td>266543.000000</td>\n",
       "      <td>266543.000000</td>\n",
       "      <td>234049.000000</td>\n",
       "      <td>266543.0</td>\n",
       "    </tr>\n",
       "    <tr>\n",
       "      <th>mean</th>\n",
       "      <td>40.159200</td>\n",
       "      <td>-75.316831</td>\n",
       "      <td>19235.194429</td>\n",
       "      <td>1.0</td>\n",
       "    </tr>\n",
       "    <tr>\n",
       "      <th>std</th>\n",
       "      <td>0.089112</td>\n",
       "      <td>0.161089</td>\n",
       "      <td>306.362554</td>\n",
       "      <td>0.0</td>\n",
       "    </tr>\n",
       "    <tr>\n",
       "      <th>min</th>\n",
       "      <td>30.333596</td>\n",
       "      <td>-95.595595</td>\n",
       "      <td>17555.000000</td>\n",
       "      <td>1.0</td>\n",
       "    </tr>\n",
       "    <tr>\n",
       "      <th>25%</th>\n",
       "      <td>40.100055</td>\n",
       "      <td>-75.393304</td>\n",
       "      <td>19038.000000</td>\n",
       "      <td>1.0</td>\n",
       "    </tr>\n",
       "    <tr>\n",
       "      <th>50%</th>\n",
       "      <td>40.144296</td>\n",
       "      <td>-75.304635</td>\n",
       "      <td>19401.000000</td>\n",
       "      <td>1.0</td>\n",
       "    </tr>\n",
       "    <tr>\n",
       "      <th>75%</th>\n",
       "      <td>40.229008</td>\n",
       "      <td>-75.211812</td>\n",
       "      <td>19446.000000</td>\n",
       "      <td>1.0</td>\n",
       "    </tr>\n",
       "    <tr>\n",
       "      <th>max</th>\n",
       "      <td>41.167156</td>\n",
       "      <td>-74.813670</td>\n",
       "      <td>77316.000000</td>\n",
       "      <td>1.0</td>\n",
       "    </tr>\n",
       "  </tbody>\n",
       "</table>\n",
       "</div>"
      ],
      "text/plain": [
       "                 lat            lng            zip         e\n",
       "count  266543.000000  266543.000000  234049.000000  266543.0\n",
       "mean       40.159200     -75.316831   19235.194429       1.0\n",
       "std         0.089112       0.161089     306.362554       0.0\n",
       "min        30.333596     -95.595595   17555.000000       1.0\n",
       "25%        40.100055     -75.393304   19038.000000       1.0\n",
       "50%        40.144296     -75.304635   19401.000000       1.0\n",
       "75%        40.229008     -75.211812   19446.000000       1.0\n",
       "max        41.167156     -74.813670   77316.000000       1.0"
      ]
     },
     "execution_count": 8,
     "metadata": {},
     "output_type": "execute_result"
    }
   ],
   "source": [
    "dfcalldata.describe()"
   ]
  },
  {
   "cell_type": "markdown",
   "metadata": {},
   "source": [
    "### Compute -- What are the top 10 Zipcodes for 911 Are Zipcodes 19446 and 19090 present ?"
   ]
  },
  {
   "cell_type": "code",
   "execution_count": 9,
   "metadata": {},
   "outputs": [
    {
     "data": {
      "text/html": [
       "<div>\n",
       "<style scoped>\n",
       "    .dataframe tbody tr th:only-of-type {\n",
       "        vertical-align: middle;\n",
       "    }\n",
       "\n",
       "    .dataframe tbody tr th {\n",
       "        vertical-align: top;\n",
       "    }\n",
       "\n",
       "    .dataframe thead th {\n",
       "        text-align: right;\n",
       "    }\n",
       "</style>\n",
       "<table border=\"1\" class=\"dataframe\">\n",
       "  <thead>\n",
       "    <tr style=\"text-align: right;\">\n",
       "      <th></th>\n",
       "      <th>Zip</th>\n",
       "      <th>Count</th>\n",
       "    </tr>\n",
       "  </thead>\n",
       "  <tbody>\n",
       "    <tr>\n",
       "      <th>80</th>\n",
       "      <td>19401.0</td>\n",
       "      <td>18401</td>\n",
       "    </tr>\n",
       "    <tr>\n",
       "      <th>100</th>\n",
       "      <td>19464.0</td>\n",
       "      <td>17937</td>\n",
       "    </tr>\n",
       "    <tr>\n",
       "      <th>81</th>\n",
       "      <td>19403.0</td>\n",
       "      <td>13366</td>\n",
       "    </tr>\n",
       "    <tr>\n",
       "      <th>94</th>\n",
       "      <td>19446.0</td>\n",
       "      <td>12828</td>\n",
       "    </tr>\n",
       "    <tr>\n",
       "      <th>84</th>\n",
       "      <td>19406.0</td>\n",
       "      <td>8820</td>\n",
       "    </tr>\n",
       "    <tr>\n",
       "      <th>25</th>\n",
       "      <td>19002.0</td>\n",
       "      <td>8367</td>\n",
       "    </tr>\n",
       "    <tr>\n",
       "      <th>102</th>\n",
       "      <td>19468.0</td>\n",
       "      <td>7860</td>\n",
       "    </tr>\n",
       "    <tr>\n",
       "      <th>44</th>\n",
       "      <td>19046.0</td>\n",
       "      <td>7340</td>\n",
       "    </tr>\n",
       "    <tr>\n",
       "      <th>96</th>\n",
       "      <td>19454.0</td>\n",
       "      <td>7274</td>\n",
       "    </tr>\n",
       "    <tr>\n",
       "      <th>58</th>\n",
       "      <td>19090.0</td>\n",
       "      <td>6999</td>\n",
       "    </tr>\n",
       "  </tbody>\n",
       "</table>\n",
       "</div>"
      ],
      "text/plain": [
       "         Zip  Count\n",
       "80   19401.0  18401\n",
       "100  19464.0  17937\n",
       "81   19403.0  13366\n",
       "94   19446.0  12828\n",
       "84   19406.0   8820\n",
       "25   19002.0   8367\n",
       "102  19468.0   7860\n",
       "44   19046.0   7340\n",
       "96   19454.0   7274\n",
       "58   19090.0   6999"
      ]
     },
     "execution_count": 9,
     "metadata": {},
     "output_type": "execute_result"
    }
   ],
   "source": [
    "listzip = []\n",
    "for zipcode, subset in dfcalldata.groupby('zip'):\n",
    "    #print(zipcode, len(subset))\n",
    "    listzip.append([zipcode,len(subset)])\n",
    "newdf = pd.DataFrame(listzip,columns=[\"Zip\",\"Count\"])\n",
    "newdf.sort_values(\"Count\",axis=0, ascending=False).head(10)"
   ]
  },
  {
   "cell_type": "markdown",
   "metadata": {},
   "source": [
    "### Compute -- What are the top 4 townships (twp) for 911 calls & Question 2: Which of the following township are not present? -- LOWER POTTSGROVE, NORRISTOWN, HORSHAM, ABINGTON"
   ]
  },
  {
   "cell_type": "code",
   "execution_count": 10,
   "metadata": {},
   "outputs": [
    {
     "data": {
      "text/plain": [
       "(266543, 9)"
      ]
     },
     "execution_count": 10,
     "metadata": {},
     "output_type": "execute_result"
    }
   ],
   "source": [
    "dfcalldata.shape"
   ]
  },
  {
   "cell_type": "code",
   "execution_count": 11,
   "metadata": {},
   "outputs": [
    {
     "data": {
      "text/html": [
       "<div>\n",
       "<style scoped>\n",
       "    .dataframe tbody tr th:only-of-type {\n",
       "        vertical-align: middle;\n",
       "    }\n",
       "\n",
       "    .dataframe tbody tr th {\n",
       "        vertical-align: top;\n",
       "    }\n",
       "\n",
       "    .dataframe thead th {\n",
       "        text-align: right;\n",
       "    }\n",
       "</style>\n",
       "<table border=\"1\" class=\"dataframe\">\n",
       "  <thead>\n",
       "    <tr style=\"text-align: right;\">\n",
       "      <th></th>\n",
       "      <th>Township</th>\n",
       "      <th>CountofCall</th>\n",
       "    </tr>\n",
       "  </thead>\n",
       "  <tbody>\n",
       "    <tr>\n",
       "      <th>26</th>\n",
       "      <td>LOWER MERION</td>\n",
       "      <td>22886</td>\n",
       "    </tr>\n",
       "    <tr>\n",
       "      <th>0</th>\n",
       "      <td>ABINGTON</td>\n",
       "      <td>16379</td>\n",
       "    </tr>\n",
       "    <tr>\n",
       "      <th>35</th>\n",
       "      <td>NORRISTOWN</td>\n",
       "      <td>15421</td>\n",
       "    </tr>\n",
       "    <tr>\n",
       "      <th>57</th>\n",
       "      <td>UPPER MERION</td>\n",
       "      <td>14015</td>\n",
       "    </tr>\n",
       "  </tbody>\n",
       "</table>\n",
       "</div>"
      ],
      "text/plain": [
       "        Township  CountofCall\n",
       "26  LOWER MERION        22886\n",
       "0       ABINGTON        16379\n",
       "35    NORRISTOWN        15421\n",
       "57  UPPER MERION        14015"
      ]
     },
     "execution_count": 11,
     "metadata": {},
     "output_type": "execute_result"
    }
   ],
   "source": [
    "twpcalllist =[]\n",
    "for township,subset in dfcalldata.groupby(\"twp\"):\n",
    "    twpcalllist.append([township,len(subset)])\n",
    "    #print(township,len(subset))\n",
    "dftwpcall = pd.DataFrame(twpcalllist,columns=['Township','CountofCall'])\n",
    "dftwpcall.sort_values('CountofCall',axis=0, ascending=False).head(4)\n",
    "    "
   ]
  },
  {
   "cell_type": "markdown",
   "metadata": {},
   "source": [
    "### Compute -- Create new features & Question 3: What is the most common Reason for a 911 call based on Reason Column? Which comes second"
   ]
  },
  {
   "cell_type": "code",
   "execution_count": 12,
   "metadata": {},
   "outputs": [
    {
     "data": {
      "text/html": [
       "<div>\n",
       "<style scoped>\n",
       "    .dataframe tbody tr th:only-of-type {\n",
       "        vertical-align: middle;\n",
       "    }\n",
       "\n",
       "    .dataframe tbody tr th {\n",
       "        vertical-align: top;\n",
       "    }\n",
       "\n",
       "    .dataframe thead th {\n",
       "        text-align: right;\n",
       "    }\n",
       "</style>\n",
       "<table border=\"1\" class=\"dataframe\">\n",
       "  <thead>\n",
       "    <tr style=\"text-align: right;\">\n",
       "      <th></th>\n",
       "      <th>lat</th>\n",
       "      <th>lng</th>\n",
       "      <th>desc</th>\n",
       "      <th>zip</th>\n",
       "      <th>title</th>\n",
       "      <th>timeStamp</th>\n",
       "      <th>twp</th>\n",
       "      <th>addr</th>\n",
       "      <th>e</th>\n",
       "    </tr>\n",
       "  </thead>\n",
       "  <tbody>\n",
       "    <tr>\n",
       "      <th>82713</th>\n",
       "      <td>40.133037</td>\n",
       "      <td>-75.408463</td>\n",
       "      <td>SHANNONDELL DR &amp; SHANNONDELL BLVD;  LOWER PROV...</td>\n",
       "      <td>19403.0</td>\n",
       "      <td>EMS: RESPIRATORY EMERGENCY</td>\n",
       "      <td>2016-07-14 07:47:21</td>\n",
       "      <td>LOWER PROVIDENCE</td>\n",
       "      <td>SHANNONDELL DR &amp; SHANNONDELL BLVD</td>\n",
       "      <td>1</td>\n",
       "    </tr>\n",
       "    <tr>\n",
       "      <th>40579</th>\n",
       "      <td>40.215776</td>\n",
       "      <td>-75.324704</td>\n",
       "      <td>MUSKET DR &amp; POWDERHORN DR;  UPPER GWYNEDD; Sta...</td>\n",
       "      <td>19446.0</td>\n",
       "      <td>EMS: ANIMAL BITE</td>\n",
       "      <td>2016-03-23 17:53:10</td>\n",
       "      <td>UPPER GWYNEDD</td>\n",
       "      <td>MUSKET DR &amp; POWDERHORN DR</td>\n",
       "      <td>1</td>\n",
       "    </tr>\n",
       "    <tr>\n",
       "      <th>221721</th>\n",
       "      <td>40.262172</td>\n",
       "      <td>-75.638926</td>\n",
       "      <td>HANOVER ST &amp; PROSPECT ST;  POTTSTOWN; Station ...</td>\n",
       "      <td>19464.0</td>\n",
       "      <td>EMS: FALL VICTIM</td>\n",
       "      <td>2017-07-08 11:18:43</td>\n",
       "      <td>POTTSTOWN</td>\n",
       "      <td>HANOVER ST &amp; PROSPECT ST</td>\n",
       "      <td>1</td>\n",
       "    </tr>\n",
       "  </tbody>\n",
       "</table>\n",
       "</div>"
      ],
      "text/plain": [
       "              lat        lng  \\\n",
       "82713   40.133037 -75.408463   \n",
       "40579   40.215776 -75.324704   \n",
       "221721  40.262172 -75.638926   \n",
       "\n",
       "                                                     desc      zip  \\\n",
       "82713   SHANNONDELL DR & SHANNONDELL BLVD;  LOWER PROV...  19403.0   \n",
       "40579   MUSKET DR & POWDERHORN DR;  UPPER GWYNEDD; Sta...  19446.0   \n",
       "221721  HANOVER ST & PROSPECT ST;  POTTSTOWN; Station ...  19464.0   \n",
       "\n",
       "                             title            timeStamp               twp  \\\n",
       "82713   EMS: RESPIRATORY EMERGENCY  2016-07-14 07:47:21  LOWER PROVIDENCE   \n",
       "40579             EMS: ANIMAL BITE  2016-03-23 17:53:10     UPPER GWYNEDD   \n",
       "221721            EMS: FALL VICTIM  2017-07-08 11:18:43         POTTSTOWN   \n",
       "\n",
       "                                     addr  e  \n",
       "82713   SHANNONDELL DR & SHANNONDELL BLVD  1  \n",
       "40579           MUSKET DR & POWDERHORN DR  1  \n",
       "221721           HANOVER ST & PROSPECT ST  1  "
      ]
     },
     "execution_count": 12,
     "metadata": {},
     "output_type": "execute_result"
    }
   ],
   "source": [
    "dfcalldata.sample(3)"
   ]
  },
  {
   "cell_type": "code",
   "execution_count": 13,
   "metadata": {},
   "outputs": [
    {
     "data": {
      "text/html": [
       "<div>\n",
       "<style scoped>\n",
       "    .dataframe tbody tr th:only-of-type {\n",
       "        vertical-align: middle;\n",
       "    }\n",
       "\n",
       "    .dataframe tbody tr th {\n",
       "        vertical-align: top;\n",
       "    }\n",
       "\n",
       "    .dataframe thead th {\n",
       "        text-align: right;\n",
       "    }\n",
       "</style>\n",
       "<table border=\"1\" class=\"dataframe\">\n",
       "  <thead>\n",
       "    <tr style=\"text-align: right;\">\n",
       "      <th></th>\n",
       "      <th>Reason</th>\n",
       "      <th>Count</th>\n",
       "    </tr>\n",
       "  </thead>\n",
       "  <tbody>\n",
       "    <tr>\n",
       "      <th>0</th>\n",
       "      <td>EMS</td>\n",
       "      <td>133234</td>\n",
       "    </tr>\n",
       "    <tr>\n",
       "      <th>1</th>\n",
       "      <td>Fire</td>\n",
       "      <td>39909</td>\n",
       "    </tr>\n",
       "    <tr>\n",
       "      <th>2</th>\n",
       "      <td>Traffic</td>\n",
       "      <td>93400</td>\n",
       "    </tr>\n",
       "  </tbody>\n",
       "</table>\n",
       "</div>"
      ],
      "text/plain": [
       "    Reason   Count\n",
       "0      EMS  133234\n",
       "1     Fire   39909\n",
       "2  Traffic   93400"
      ]
     },
     "execution_count": 13,
     "metadata": {},
     "output_type": "execute_result"
    }
   ],
   "source": [
    "lstcntbytitle = []\n",
    "for title,subset in dfcalldata.groupby('title'):\n",
    "    #print(title,len(subset))\n",
    "    lstcntbytitle.append([title,len(subset)])\n",
    "dfreasoncount = pd.DataFrame(lstcntbytitle,columns=['Title','Count'])\n",
    "tempdf = dfreasoncount.sort_values('Count',axis=0, ascending = False)\n",
    "lstReason= []\n",
    "for loopvar in tempdf['Title']:\n",
    "    #print(loopvar.split(':')[0])\n",
    "    lstReason.append(loopvar.split(':')[0])\n",
    "tempdf[\"Reason\"]=lstReason\n",
    "tempdf\n",
    "lstnewReason =[]\n",
    "for reason,subset in tempdf.groupby('Reason'):\n",
    "   lstnewReason.append([reason,subset['Count'].sum()])\n",
    "dfReason = pd.DataFrame(lstnewReason,columns=[\"Reason\",\"Count\"])\n",
    "dfReason"
   ]
  },
  {
   "cell_type": "markdown",
   "metadata": {},
   "source": [
    "### Compute -- Plot barchart using matplot for 911 calls by Reason & Question 4: How can you plot the bars horizontally ?"
   ]
  },
  {
   "cell_type": "code",
   "execution_count": 14,
   "metadata": {},
   "outputs": [
    {
     "data": {
      "image/png": "[encoded data removed]",
      "text/plain": [
       "<Figure size 432x288 with 1 Axes>"
      ]
     },
     "metadata": {
      "needs_background": "light"
     },
     "output_type": "display_data"
    }
   ],
   "source": [
    "arr =np.arange(1,4)\n",
    "plt.bar(arr,dfReason['Count'],tick_label=dfReason[\"Reason\"])\n",
    "plt.show()"
   ]
  },
  {
   "cell_type": "code",
   "execution_count": 15,
   "metadata": {},
   "outputs": [
    {
     "data": {
      "image/png": "[encoded data removed]",
      "text/plain": [
       "<Figure size 432x288 with 1 Axes>"
      ]
     },
     "metadata": {
      "needs_background": "light"
     },
     "output_type": "display_data"
    }
   ],
   "source": [
    "plt.barh(arr,dfReason['Count'],tick_label=dfReason[\"Reason\"])\n",
    "plt.show()"
   ]
  },
  {
   "cell_type": "markdown",
   "metadata": {},
   "source": [
    "### Which day got maximum calls for EMS and how many?"
   ]
  },
  {
   "cell_type": "code",
   "execution_count": 16,
   "metadata": {},
   "outputs": [],
   "source": [
    "import datetime as dt\n",
    "import calendar\n",
    "from dateutil import parser"
   ]
  },
  {
   "cell_type": "code",
   "execution_count": 17,
   "metadata": {},
   "outputs": [],
   "source": [
    "def GetdayFromDate(strdate):\n",
    "    #2017-07-26 19:16:54\n",
    "        #objDateTime = dt.strptime(strDate, '%Y-%m-%d')\n",
    "    objDateTime = parser.parse(strdate)\n",
    "    return calendar.day_name[objDateTime.weekday()]\n",
    "    "
   ]
  },
  {
   "cell_type": "code",
   "execution_count": 18,
   "metadata": {},
   "outputs": [
    {
     "data": {
      "text/plain": [
       "'Wednesday'"
      ]
     },
     "execution_count": 18,
     "metadata": {},
     "output_type": "execute_result"
    }
   ],
   "source": [
    "GetdayFromDate('2017-07-26 19:16:54')"
   ]
  },
  {
   "cell_type": "code",
   "execution_count": 19,
   "metadata": {},
   "outputs": [],
   "source": [
    "dfcalldata['DayOfWeek']= list(map(GetdayFromDate,dfcalldata['timeStamp']))"
   ]
  },
  {
   "cell_type": "code",
   "execution_count": 20,
   "metadata": {},
   "outputs": [],
   "source": [
    "def GetReasonFromTitle(strTitle):\n",
    "    return strTitle.split(':')[0]"
   ]
  },
  {
   "cell_type": "code",
   "execution_count": 21,
   "metadata": {},
   "outputs": [
    {
     "data": {
      "text/plain": [
       "'EMS'"
      ]
     },
     "execution_count": 21,
     "metadata": {},
     "output_type": "execute_result"
    }
   ],
   "source": [
    "GetReasonFromTitle('EMS: SEIZURES')"
   ]
  },
  {
   "cell_type": "code",
   "execution_count": 22,
   "metadata": {},
   "outputs": [],
   "source": [
    "dfcalldata['Reason'] = list(map(GetReasonFromTitle,dfcalldata['title']))"
   ]
  },
  {
   "cell_type": "code",
   "execution_count": 23,
   "metadata": {},
   "outputs": [
    {
     "data": {
      "text/html": [
       "<div>\n",
       "<style scoped>\n",
       "    .dataframe tbody tr th:only-of-type {\n",
       "        vertical-align: middle;\n",
       "    }\n",
       "\n",
       "    .dataframe tbody tr th {\n",
       "        vertical-align: top;\n",
       "    }\n",
       "\n",
       "    .dataframe thead th {\n",
       "        text-align: right;\n",
       "    }\n",
       "</style>\n",
       "<table border=\"1\" class=\"dataframe\">\n",
       "  <thead>\n",
       "    <tr style=\"text-align: right;\">\n",
       "      <th></th>\n",
       "      <th>lat</th>\n",
       "      <th>lng</th>\n",
       "      <th>desc</th>\n",
       "      <th>zip</th>\n",
       "      <th>title</th>\n",
       "      <th>timeStamp</th>\n",
       "      <th>twp</th>\n",
       "      <th>addr</th>\n",
       "      <th>e</th>\n",
       "      <th>DayOfWeek</th>\n",
       "      <th>Reason</th>\n",
       "    </tr>\n",
       "  </thead>\n",
       "  <tbody>\n",
       "    <tr>\n",
       "      <th>146562</th>\n",
       "      <td>40.097222</td>\n",
       "      <td>-75.376195</td>\n",
       "      <td>DEKALB PIKE &amp; TURNPIKE UNDERPASS; UPPER MERION...</td>\n",
       "      <td>NaN</td>\n",
       "      <td>Fire: VEHICLE LEAKING FUEL</td>\n",
       "      <td>2016-12-21 23:10:38</td>\n",
       "      <td>UPPER MERION</td>\n",
       "      <td>DEKALB PIKE &amp; TURNPIKE UNDERPASS</td>\n",
       "      <td>1</td>\n",
       "      <td>Wednesday</td>\n",
       "      <td>Fire</td>\n",
       "    </tr>\n",
       "    <tr>\n",
       "      <th>179513</th>\n",
       "      <td>40.159141</td>\n",
       "      <td>-75.351357</td>\n",
       "      <td>INDEPENDENCE RD &amp; TAFT RD; EAST NORRITON; 2017...</td>\n",
       "      <td>19403.0</td>\n",
       "      <td>Fire: PUMP DETAIL</td>\n",
       "      <td>2017-03-20 09:10:09</td>\n",
       "      <td>EAST NORRITON</td>\n",
       "      <td>INDEPENDENCE RD &amp; TAFT RD</td>\n",
       "      <td>1</td>\n",
       "      <td>Monday</td>\n",
       "      <td>Fire</td>\n",
       "    </tr>\n",
       "    <tr>\n",
       "      <th>195694</th>\n",
       "      <td>40.324992</td>\n",
       "      <td>-75.328175</td>\n",
       "      <td>LUTHERAN HOME DR &amp; DEAD END;  TELFORD; Station...</td>\n",
       "      <td>NaN</td>\n",
       "      <td>EMS: LACERATIONS</td>\n",
       "      <td>2017-05-03 01:40:12</td>\n",
       "      <td>TELFORD</td>\n",
       "      <td>LUTHERAN HOME DR &amp; DEAD END</td>\n",
       "      <td>1</td>\n",
       "      <td>Wednesday</td>\n",
       "      <td>EMS</td>\n",
       "    </tr>\n",
       "    <tr>\n",
       "      <th>263115</th>\n",
       "      <td>40.086455</td>\n",
       "      <td>-75.157383</td>\n",
       "      <td>RICES MILL RD &amp; PANTHER RD; CHELTENHAM; 2017-1...</td>\n",
       "      <td>19095.0</td>\n",
       "      <td>Fire: FIRE ALARM</td>\n",
       "      <td>2017-10-26 13:34:40</td>\n",
       "      <td>CHELTENHAM</td>\n",
       "      <td>RICES MILL RD &amp; PANTHER RD</td>\n",
       "      <td>1</td>\n",
       "      <td>Thursday</td>\n",
       "      <td>Fire</td>\n",
       "    </tr>\n",
       "    <tr>\n",
       "      <th>149010</th>\n",
       "      <td>40.116153</td>\n",
       "      <td>-75.343513</td>\n",
       "      <td>AIRY ST &amp; SWEDE ST;  NORRISTOWN; Station 308A;...</td>\n",
       "      <td>19401.0</td>\n",
       "      <td>EMS: SUBJECT IN PAIN</td>\n",
       "      <td>2016-12-28 13:43:41</td>\n",
       "      <td>NORRISTOWN</td>\n",
       "      <td>AIRY ST &amp; SWEDE ST</td>\n",
       "      <td>1</td>\n",
       "      <td>Wednesday</td>\n",
       "      <td>EMS</td>\n",
       "    </tr>\n",
       "    <tr>\n",
       "      <th>157904</th>\n",
       "      <td>40.243956</td>\n",
       "      <td>-75.614128</td>\n",
       "      <td>HIGH ST &amp; ARMAND HAMMER BLVD;  POTTSTOWN; Stat...</td>\n",
       "      <td>19464.0</td>\n",
       "      <td>EMS: CARDIAC EMERGENCY</td>\n",
       "      <td>2017-01-21 09:43:37</td>\n",
       "      <td>POTTSTOWN</td>\n",
       "      <td>HIGH ST &amp; ARMAND HAMMER BLVD</td>\n",
       "      <td>1</td>\n",
       "      <td>Saturday</td>\n",
       "      <td>EMS</td>\n",
       "    </tr>\n",
       "    <tr>\n",
       "      <th>173840</th>\n",
       "      <td>40.238724</td>\n",
       "      <td>-75.578516</td>\n",
       "      <td>EVERGREEN RD &amp; W LIGHTCAP RD;  LOWER POTTSGROV...</td>\n",
       "      <td>19464.0</td>\n",
       "      <td>EMS: ALTERED MENTAL STATUS</td>\n",
       "      <td>2017-03-05 12:53:11</td>\n",
       "      <td>LOWER POTTSGROVE</td>\n",
       "      <td>EVERGREEN RD &amp; W LIGHTCAP RD</td>\n",
       "      <td>1</td>\n",
       "      <td>Sunday</td>\n",
       "      <td>EMS</td>\n",
       "    </tr>\n",
       "    <tr>\n",
       "      <th>189334</th>\n",
       "      <td>40.126494</td>\n",
       "      <td>-75.031583</td>\n",
       "      <td>WOODLAND CIR &amp; SIMONS WAY; LOWER MORELAND; 201...</td>\n",
       "      <td>19006.0</td>\n",
       "      <td>Fire: BUILDING FIRE</td>\n",
       "      <td>2017-04-15 14:18:28</td>\n",
       "      <td>LOWER MORELAND</td>\n",
       "      <td>WOODLAND CIR &amp; SIMONS WAY</td>\n",
       "      <td>1</td>\n",
       "      <td>Saturday</td>\n",
       "      <td>Fire</td>\n",
       "    </tr>\n",
       "    <tr>\n",
       "      <th>129702</th>\n",
       "      <td>40.261613</td>\n",
       "      <td>-75.631756</td>\n",
       "      <td>CHARLOTTE ST &amp; MAPLEWOOD DR; POTTSTOWN; 2016-1...</td>\n",
       "      <td>19464.0</td>\n",
       "      <td>Fire: FIRE SPECIAL SERVICE</td>\n",
       "      <td>2016-11-10 13:14:56</td>\n",
       "      <td>POTTSTOWN</td>\n",
       "      <td>CHARLOTTE ST &amp; MAPLEWOOD DR</td>\n",
       "      <td>1</td>\n",
       "      <td>Thursday</td>\n",
       "      <td>Fire</td>\n",
       "    </tr>\n",
       "    <tr>\n",
       "      <th>44819</th>\n",
       "      <td>40.100344</td>\n",
       "      <td>-75.293955</td>\n",
       "      <td>CHEMICAL RD &amp; GALLAGHER RD; PLYMOUTH; 2016-04-...</td>\n",
       "      <td>19462.0</td>\n",
       "      <td>Traffic: ROAD OBSTRUCTION -</td>\n",
       "      <td>2016-04-03 18:38:23</td>\n",
       "      <td>PLYMOUTH</td>\n",
       "      <td>CHEMICAL RD &amp; GALLAGHER RD</td>\n",
       "      <td>1</td>\n",
       "      <td>Sunday</td>\n",
       "      <td>Traffic</td>\n",
       "    </tr>\n",
       "  </tbody>\n",
       "</table>\n",
       "</div>"
      ],
      "text/plain": [
       "              lat        lng  \\\n",
       "146562  40.097222 -75.376195   \n",
       "179513  40.159141 -75.351357   \n",
       "195694  40.324992 -75.328175   \n",
       "263115  40.086455 -75.157383   \n",
       "149010  40.116153 -75.343513   \n",
       "157904  40.243956 -75.614128   \n",
       "173840  40.238724 -75.578516   \n",
       "189334  40.126494 -75.031583   \n",
       "129702  40.261613 -75.631756   \n",
       "44819   40.100344 -75.293955   \n",
       "\n",
       "                                                     desc      zip  \\\n",
       "146562  DEKALB PIKE & TURNPIKE UNDERPASS; UPPER MERION...      NaN   \n",
       "179513  INDEPENDENCE RD & TAFT RD; EAST NORRITON; 2017...  19403.0   \n",
       "195694  LUTHERAN HOME DR & DEAD END;  TELFORD; Station...      NaN   \n",
       "263115  RICES MILL RD & PANTHER RD; CHELTENHAM; 2017-1...  19095.0   \n",
       "149010  AIRY ST & SWEDE ST;  NORRISTOWN; Station 308A;...  19401.0   \n",
       "157904  HIGH ST & ARMAND HAMMER BLVD;  POTTSTOWN; Stat...  19464.0   \n",
       "173840  EVERGREEN RD & W LIGHTCAP RD;  LOWER POTTSGROV...  19464.0   \n",
       "189334  WOODLAND CIR & SIMONS WAY; LOWER MORELAND; 201...  19006.0   \n",
       "129702  CHARLOTTE ST & MAPLEWOOD DR; POTTSTOWN; 2016-1...  19464.0   \n",
       "44819   CHEMICAL RD & GALLAGHER RD; PLYMOUTH; 2016-04-...  19462.0   \n",
       "\n",
       "                              title            timeStamp               twp  \\\n",
       "146562   Fire: VEHICLE LEAKING FUEL  2016-12-21 23:10:38      UPPER MERION   \n",
       "179513            Fire: PUMP DETAIL  2017-03-20 09:10:09     EAST NORRITON   \n",
       "195694             EMS: LACERATIONS  2017-05-03 01:40:12           TELFORD   \n",
       "263115             Fire: FIRE ALARM  2017-10-26 13:34:40        CHELTENHAM   \n",
       "149010         EMS: SUBJECT IN PAIN  2016-12-28 13:43:41        NORRISTOWN   \n",
       "157904       EMS: CARDIAC EMERGENCY  2017-01-21 09:43:37         POTTSTOWN   \n",
       "173840   EMS: ALTERED MENTAL STATUS  2017-03-05 12:53:11  LOWER POTTSGROVE   \n",
       "189334          Fire: BUILDING FIRE  2017-04-15 14:18:28    LOWER MORELAND   \n",
       "129702   Fire: FIRE SPECIAL SERVICE  2016-11-10 13:14:56         POTTSTOWN   \n",
       "44819   Traffic: ROAD OBSTRUCTION -  2016-04-03 18:38:23          PLYMOUTH   \n",
       "\n",
       "                                    addr  e  DayOfWeek   Reason  \n",
       "146562  DEKALB PIKE & TURNPIKE UNDERPASS  1  Wednesday     Fire  \n",
       "179513         INDEPENDENCE RD & TAFT RD  1     Monday     Fire  \n",
       "195694       LUTHERAN HOME DR & DEAD END  1  Wednesday      EMS  \n",
       "263115        RICES MILL RD & PANTHER RD  1   Thursday     Fire  \n",
       "149010                AIRY ST & SWEDE ST  1  Wednesday      EMS  \n",
       "157904      HIGH ST & ARMAND HAMMER BLVD  1   Saturday      EMS  \n",
       "173840      EVERGREEN RD & W LIGHTCAP RD  1     Sunday      EMS  \n",
       "189334         WOODLAND CIR & SIMONS WAY  1   Saturday     Fire  \n",
       "129702       CHARLOTTE ST & MAPLEWOOD DR  1   Thursday     Fire  \n",
       "44819         CHEMICAL RD & GALLAGHER RD  1     Sunday  Traffic  "
      ]
     },
     "execution_count": 23,
     "metadata": {},
     "output_type": "execute_result"
    }
   ],
   "source": [
    "dfcalldata.sample(10)"
   ]
  },
  {
   "cell_type": "code",
   "execution_count": 24,
   "metadata": {},
   "outputs": [
    {
     "data": {
      "text/html": [
       "<div>\n",
       "<style scoped>\n",
       "    .dataframe tbody tr th:only-of-type {\n",
       "        vertical-align: middle;\n",
       "    }\n",
       "\n",
       "    .dataframe tbody tr th {\n",
       "        vertical-align: top;\n",
       "    }\n",
       "\n",
       "    .dataframe thead th {\n",
       "        text-align: right;\n",
       "    }\n",
       "</style>\n",
       "<table border=\"1\" class=\"dataframe\">\n",
       "  <thead>\n",
       "    <tr style=\"text-align: right;\">\n",
       "      <th></th>\n",
       "      <th>DayOfWeek</th>\n",
       "      <th>Reason</th>\n",
       "      <th>Count</th>\n",
       "    </tr>\n",
       "  </thead>\n",
       "  <tbody>\n",
       "    <tr>\n",
       "      <th>0</th>\n",
       "      <td>Friday</td>\n",
       "      <td>EMS</td>\n",
       "      <td>19938</td>\n",
       "    </tr>\n",
       "    <tr>\n",
       "      <th>15</th>\n",
       "      <td>Tuesday</td>\n",
       "      <td>EMS</td>\n",
       "      <td>19575</td>\n",
       "    </tr>\n",
       "    <tr>\n",
       "      <th>18</th>\n",
       "      <td>Wednesday</td>\n",
       "      <td>EMS</td>\n",
       "      <td>19422</td>\n",
       "    </tr>\n",
       "    <tr>\n",
       "      <th>3</th>\n",
       "      <td>Monday</td>\n",
       "      <td>EMS</td>\n",
       "      <td>19389</td>\n",
       "    </tr>\n",
       "    <tr>\n",
       "      <th>12</th>\n",
       "      <td>Thursday</td>\n",
       "      <td>EMS</td>\n",
       "      <td>19297</td>\n",
       "    </tr>\n",
       "    <tr>\n",
       "      <th>6</th>\n",
       "      <td>Saturday</td>\n",
       "      <td>EMS</td>\n",
       "      <td>18229</td>\n",
       "    </tr>\n",
       "    <tr>\n",
       "      <th>9</th>\n",
       "      <td>Sunday</td>\n",
       "      <td>EMS</td>\n",
       "      <td>17384</td>\n",
       "    </tr>\n",
       "  </tbody>\n",
       "</table>\n",
       "</div>"
      ],
      "text/plain": [
       "    DayOfWeek Reason  Count\n",
       "0      Friday    EMS  19938\n",
       "15    Tuesday    EMS  19575\n",
       "18  Wednesday    EMS  19422\n",
       "3      Monday    EMS  19389\n",
       "12   Thursday    EMS  19297\n",
       "6    Saturday    EMS  18229\n",
       "9      Sunday    EMS  17384"
      ]
     },
     "execution_count": 24,
     "metadata": {},
     "output_type": "execute_result"
    }
   ],
   "source": [
    "lstDayReason = []\n",
    "for loopvar, subset in dfcalldata.groupby(['DayOfWeek','Reason']):\n",
    "    lstDayReason.append([loopvar[0],loopvar[1],len(subset)])\n",
    "dfDayReason = pd.DataFrame(lstDayReason,columns=['DayOfWeek','Reason','Count'])\n",
    "dfDayReason[dfDayReason['Reason']=='EMS'].sort_values('Count',axis=0,ascending=False)    "
   ]
  },
  {
   "cell_type": "markdown",
   "metadata": {},
   "source": [
    "### Compute -- Create a countplot of the Day of Week column with the hue based of the Reason column & Question 6: On which day traffic calls were lowest ?"
   ]
  },
  {
   "cell_type": "code",
   "execution_count": 25,
   "metadata": {},
   "outputs": [
    {
     "data": {
      "text/html": [
       "<div>\n",
       "<style scoped>\n",
       "    .dataframe tbody tr th:only-of-type {\n",
       "        vertical-align: middle;\n",
       "    }\n",
       "\n",
       "    .dataframe tbody tr th {\n",
       "        vertical-align: top;\n",
       "    }\n",
       "\n",
       "    .dataframe thead th {\n",
       "        text-align: right;\n",
       "    }\n",
       "</style>\n",
       "<table border=\"1\" class=\"dataframe\">\n",
       "  <thead>\n",
       "    <tr style=\"text-align: right;\">\n",
       "      <th></th>\n",
       "      <th>DayOfWeek</th>\n",
       "      <th>Reason</th>\n",
       "      <th>Count</th>\n",
       "    </tr>\n",
       "  </thead>\n",
       "  <tbody>\n",
       "    <tr>\n",
       "      <th>11</th>\n",
       "      <td>Sunday</td>\n",
       "      <td>Traffic</td>\n",
       "      <td>8847</td>\n",
       "    </tr>\n",
       "    <tr>\n",
       "      <th>8</th>\n",
       "      <td>Saturday</td>\n",
       "      <td>Traffic</td>\n",
       "      <td>11524</td>\n",
       "    </tr>\n",
       "    <tr>\n",
       "      <th>5</th>\n",
       "      <td>Monday</td>\n",
       "      <td>Traffic</td>\n",
       "      <td>13797</td>\n",
       "    </tr>\n",
       "    <tr>\n",
       "      <th>14</th>\n",
       "      <td>Thursday</td>\n",
       "      <td>Traffic</td>\n",
       "      <td>14613</td>\n",
       "    </tr>\n",
       "    <tr>\n",
       "      <th>20</th>\n",
       "      <td>Wednesday</td>\n",
       "      <td>Traffic</td>\n",
       "      <td>14807</td>\n",
       "    </tr>\n",
       "    <tr>\n",
       "      <th>17</th>\n",
       "      <td>Tuesday</td>\n",
       "      <td>Traffic</td>\n",
       "      <td>14867</td>\n",
       "    </tr>\n",
       "    <tr>\n",
       "      <th>2</th>\n",
       "      <td>Friday</td>\n",
       "      <td>Traffic</td>\n",
       "      <td>14945</td>\n",
       "    </tr>\n",
       "  </tbody>\n",
       "</table>\n",
       "</div>"
      ],
      "text/plain": [
       "    DayOfWeek   Reason  Count\n",
       "11     Sunday  Traffic   8847\n",
       "8    Saturday  Traffic  11524\n",
       "5      Monday  Traffic  13797\n",
       "14   Thursday  Traffic  14613\n",
       "20  Wednesday  Traffic  14807\n",
       "17    Tuesday  Traffic  14867\n",
       "2      Friday  Traffic  14945"
      ]
     },
     "execution_count": 25,
     "metadata": {},
     "output_type": "execute_result"
    }
   ],
   "source": [
    "dfDayReason[dfDayReason['Reason']=='Traffic'].sort_values('Count',axis=0,ascending=True)"
   ]
  },
  {
   "cell_type": "code",
   "execution_count": 26,
   "metadata": {},
   "outputs": [],
   "source": [
    "import seaborn as snb"
   ]
  },
  {
   "cell_type": "code",
   "execution_count": 27,
   "metadata": {},
   "outputs": [
    {
     "data": {
      "text/plain": [
       "21"
      ]
     },
     "execution_count": 27,
     "metadata": {},
     "output_type": "execute_result"
    }
   ],
   "source": [
    "len(dfDayReason)"
   ]
  },
  {
   "cell_type": "code",
   "execution_count": 28,
   "metadata": {},
   "outputs": [],
   "source": [
    "arr1= np.arange(0,len(dfDayReason))"
   ]
  },
  {
   "cell_type": "code",
   "execution_count": 29,
   "metadata": {},
   "outputs": [
    {
     "data": {
      "image/png": "[encoded data removed]",
      "text/plain": [
       "<Figure size 432x288 with 1 Axes>"
      ]
     },
     "metadata": {
      "needs_background": "light"
     },
     "output_type": "display_data"
    }
   ],
   "source": [
    "plt.barh(np.arange(0,len(dfDayReason)),dfDayReason['Count'],tick_label=dfDayReason['Reason'])\n",
    "plt.show()"
   ]
  },
  {
   "cell_type": "code",
   "execution_count": 30,
   "metadata": {},
   "outputs": [],
   "source": [
    "def GetMonthFromDate(strdate):\n",
    "    #2017-07-26 19:16:54\n",
    "        #objDateTime = dt.strptime(strDate, '%Y-%m-%d')\n",
    "    objDateTime = parser.parse(strdate)\n",
    "    return calendar.month_name[objDateTime.month]"
   ]
  },
  {
   "cell_type": "markdown",
   "metadata": {},
   "source": [
    "### Compute -- Create a countplot month wise -- Question 7: Which month saw highest calls for fire?"
   ]
  },
  {
   "cell_type": "code",
   "execution_count": null,
   "metadata": {},
   "outputs": [],
   "source": [
    "dfcalldata[\"Month\"]= list(map(GetMonthFromDate,dfcalldata[\"timeStamp\"]))"
   ]
  },
  {
   "cell_type": "code",
   "execution_count": null,
   "metadata": {},
   "outputs": [],
   "source": [
    "dfcalldata.sample(5)"
   ]
  },
  {
   "cell_type": "code",
   "execution_count": null,
   "metadata": {},
   "outputs": [],
   "source": [
    "lstCallsByMonth = []\n",
    "for var,subset in dfcalldata.groupby(['Reason','Month']):\n",
    "    lstCallsByMonth.append([var[0],var[1],len(subset)])\n",
    "dfCallsByMonth= pd.DataFrame(lstCallsByMonth,columns=[\"Reason\",\"Month\",\"Count\"])\n",
    "dfOut=dfCallsByMonth[dfCallsByMonth['Reason']=='Fire'].sort_values('Count',axis=0,ascending=False)"
   ]
  },
  {
   "cell_type": "code",
   "execution_count": null,
   "metadata": {},
   "outputs": [],
   "source": [
    "dfOut.head(1)"
   ]
  },
  {
   "cell_type": "code",
   "execution_count": null,
   "metadata": {},
   "outputs": [],
   "source": [
    "plt.bar(np.arange(0,len(dfOut)),dfOut['Count'],tick_label=dfOut['Month'])"
   ]
  },
  {
   "cell_type": "code",
   "execution_count": null,
   "metadata": {},
   "outputs": [],
   "source": [
    "dfTrafficData = dfcalldata[dfcalldata[\"Reason\"]=='Traffic']"
   ]
  },
  {
   "cell_type": "markdown",
   "metadata": {},
   "source": [
    "### Compute -- Create Web Map for Traffic Calls & Question 8: Why some areas seem to have lower or almost zero traffic calls? Hint: Zoom the map"
   ]
  },
  {
   "cell_type": "code",
   "execution_count": null,
   "metadata": {},
   "outputs": [],
   "source": [
    "import folium\n",
    "import io"
   ]
  },
  {
   "cell_type": "code",
   "execution_count": null,
   "metadata": {},
   "outputs": [],
   "source": [
    "dfSample=dfTrafficData.sample(100)"
   ]
  },
  {
   "cell_type": "code",
   "execution_count": null,
   "metadata": {},
   "outputs": [],
   "source": [
    "dfSample"
   ]
  },
  {
   "cell_type": "code",
   "execution_count": null,
   "metadata": {},
   "outputs": [],
   "source": [
    "lat = list(dfSample['lat'])\n",
    "lon = list(dfSample['lng'])\n",
    "twp = list(dfSample['twp'])\n",
    "\n",
    "map = folium.Map(location=[32.50,-99.09],zoom_start=6,titles='Mapbox Bright')\n",
    "fg= folium.FeatureGroup(name='TrafficCall')\n",
    "\n",
    "for lt,ln,tw in zip(lat,lon,twp):\n",
    "    fg.add_child(folium.Marker(location=[lt,ln],popup=str(tw),icon=folium.Icon(color=\"green\")))\n",
    "\n",
    "map.add_child(fg)\n",
    "map.add_child(folium.LayerControl())\n",
    "\n",
    "map.save(\"Map.html\")"
   ]
  },
  {
   "cell_type": "code",
   "execution_count": null,
   "metadata": {},
   "outputs": [],
   "source": []
  }
 ],
 "metadata": {
  "kernelspec": {
   "display_name": "Python 3",
   "language": "python",
   "name": "python3"
  },
  "language_info": {
   "codemirror_mode": {
    "name": "ipython",
    "version": 3
   },
   "file_extension": ".py",
   "mimetype": "text/x-python",
   "name": "python",
   "nbconvert_exporter": "python",
   "pygments_lexer": "ipython3",
   "version": "3.7.1"
  }
 },
 "nbformat": 4,
 "nbformat_minor": 2
}
